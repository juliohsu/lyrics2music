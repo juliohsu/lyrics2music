{
 "cells": [
  {
   "cell_type": "markdown",
   "metadata": {},
   "source": [
    "# Import libraries, modules and packages"
   ]
  },
  {
   "cell_type": "code",
   "execution_count": 2,
   "metadata": {},
   "outputs": [
    {
     "name": "stderr",
     "output_type": "stream",
     "text": [
      "\n",
      "A module that was compiled using NumPy 1.x cannot be run in\n",
      "NumPy 2.0.1 as it may crash. To support both 1.x and 2.x\n",
      "versions of NumPy, modules must be compiled with NumPy 2.0.\n",
      "Some module may need to rebuild instead e.g. with 'pybind11>=2.12'.\n",
      "\n",
      "If you are a user of the module, the easiest solution will be to\n",
      "downgrade to 'numpy<2' or try to upgrade the affected module.\n",
      "We expect that some modules will need time to support NumPy 2.\n",
      "\n",
      "Traceback (most recent call last):  File \"c:\\Users\\julio\\anaconda3\\envs\\singer-doge\\lib\\runpy.py\", line 196, in _run_module_as_main\n",
      "    return _run_code(code, main_globals, None,\n",
      "  File \"c:\\Users\\julio\\anaconda3\\envs\\singer-doge\\lib\\runpy.py\", line 86, in _run_code\n",
      "    exec(code, run_globals)\n",
      "  File \"c:\\Users\\julio\\anaconda3\\envs\\singer-doge\\lib\\site-packages\\ipykernel_launcher.py\", line 18, in <module>\n",
      "    app.launch_new_instance()\n",
      "  File \"c:\\Users\\julio\\anaconda3\\envs\\singer-doge\\lib\\site-packages\\traitlets\\config\\application.py\", line 1075, in launch_instance\n",
      "    app.start()\n",
      "  File \"c:\\Users\\julio\\anaconda3\\envs\\singer-doge\\lib\\site-packages\\ipykernel\\kernelapp.py\", line 739, in start\n",
      "    self.io_loop.start()\n",
      "  File \"c:\\Users\\julio\\anaconda3\\envs\\singer-doge\\lib\\site-packages\\tornado\\platform\\asyncio.py\", line 205, in start\n",
      "    self.asyncio_loop.run_forever()\n",
      "  File \"c:\\Users\\julio\\anaconda3\\envs\\singer-doge\\lib\\asyncio\\base_events.py\", line 603, in run_forever\n",
      "    self._run_once()\n",
      "  File \"c:\\Users\\julio\\anaconda3\\envs\\singer-doge\\lib\\asyncio\\base_events.py\", line 1909, in _run_once\n",
      "    handle._run()\n",
      "  File \"c:\\Users\\julio\\anaconda3\\envs\\singer-doge\\lib\\asyncio\\events.py\", line 80, in _run\n",
      "    self._context.run(self._callback, *self._args)\n",
      "  File \"c:\\Users\\julio\\anaconda3\\envs\\singer-doge\\lib\\site-packages\\ipykernel\\kernelbase.py\", line 545, in dispatch_queue\n",
      "    await self.process_one()\n",
      "  File \"c:\\Users\\julio\\anaconda3\\envs\\singer-doge\\lib\\site-packages\\ipykernel\\kernelbase.py\", line 534, in process_one\n",
      "    await dispatch(*args)\n",
      "  File \"c:\\Users\\julio\\anaconda3\\envs\\singer-doge\\lib\\site-packages\\ipykernel\\kernelbase.py\", line 437, in dispatch_shell\n",
      "    await result\n",
      "  File \"c:\\Users\\julio\\anaconda3\\envs\\singer-doge\\lib\\site-packages\\ipykernel\\ipkernel.py\", line 362, in execute_request\n",
      "    await super().execute_request(stream, ident, parent)\n",
      "  File \"c:\\Users\\julio\\anaconda3\\envs\\singer-doge\\lib\\site-packages\\ipykernel\\kernelbase.py\", line 778, in execute_request\n",
      "    reply_content = await reply_content\n",
      "  File \"c:\\Users\\julio\\anaconda3\\envs\\singer-doge\\lib\\site-packages\\ipykernel\\ipkernel.py\", line 449, in do_execute\n",
      "    res = shell.run_cell(\n",
      "  File \"c:\\Users\\julio\\anaconda3\\envs\\singer-doge\\lib\\site-packages\\ipykernel\\zmqshell.py\", line 549, in run_cell\n",
      "    return super().run_cell(*args, **kwargs)\n",
      "  File \"c:\\Users\\julio\\anaconda3\\envs\\singer-doge\\lib\\site-packages\\IPython\\core\\interactiveshell.py\", line 3077, in run_cell\n",
      "    result = self._run_cell(\n",
      "  File \"c:\\Users\\julio\\anaconda3\\envs\\singer-doge\\lib\\site-packages\\IPython\\core\\interactiveshell.py\", line 3132, in _run_cell\n",
      "    result = runner(coro)\n",
      "  File \"c:\\Users\\julio\\anaconda3\\envs\\singer-doge\\lib\\site-packages\\IPython\\core\\async_helpers.py\", line 128, in _pseudo_sync_runner\n",
      "    coro.send(None)\n",
      "  File \"c:\\Users\\julio\\anaconda3\\envs\\singer-doge\\lib\\site-packages\\IPython\\core\\interactiveshell.py\", line 3336, in run_cell_async\n",
      "    has_raised = await self.run_ast_nodes(code_ast.body, cell_name,\n",
      "  File \"c:\\Users\\julio\\anaconda3\\envs\\singer-doge\\lib\\site-packages\\IPython\\core\\interactiveshell.py\", line 3519, in run_ast_nodes\n",
      "    if await self.run_code(code, result, async_=asy):\n",
      "  File \"c:\\Users\\julio\\anaconda3\\envs\\singer-doge\\lib\\site-packages\\IPython\\core\\interactiveshell.py\", line 3579, in run_code\n",
      "    exec(code_obj, self.user_global_ns, self.user_ns)\n",
      "  File \"C:\\Users\\julio\\AppData\\Local\\Temp\\ipykernel_22636\\2213243404.py\", line 1, in <module>\n",
      "    import torch\n",
      "  File \"c:\\Users\\julio\\anaconda3\\envs\\singer-doge\\lib\\site-packages\\torch\\__init__.py\", line 1382, in <module>\n",
      "    from .functional import *  # noqa: F403\n",
      "  File \"c:\\Users\\julio\\anaconda3\\envs\\singer-doge\\lib\\site-packages\\torch\\functional.py\", line 7, in <module>\n",
      "    import torch.nn.functional as F\n",
      "  File \"c:\\Users\\julio\\anaconda3\\envs\\singer-doge\\lib\\site-packages\\torch\\nn\\__init__.py\", line 1, in <module>\n",
      "    from .modules import *  # noqa: F403\n",
      "  File \"c:\\Users\\julio\\anaconda3\\envs\\singer-doge\\lib\\site-packages\\torch\\nn\\modules\\__init__.py\", line 35, in <module>\n",
      "    from .transformer import TransformerEncoder, TransformerDecoder, \\\n",
      "  File \"c:\\Users\\julio\\anaconda3\\envs\\singer-doge\\lib\\site-packages\\torch\\nn\\modules\\transformer.py\", line 20, in <module>\n",
      "    device: torch.device = torch.device(torch._C._get_default_device()),  # torch.device('cpu'),\n",
      "c:\\Users\\julio\\anaconda3\\envs\\singer-doge\\lib\\site-packages\\torch\\nn\\modules\\transformer.py:20: UserWarning: Failed to initialize NumPy: _ARRAY_API not found (Triggered internally at ..\\torch\\csrc\\utils\\tensor_numpy.cpp:84.)\n",
      "  device: torch.device = torch.device(torch._C._get_default_device()),  # torch.device('cpu'),\n",
      "WARNING[XFORMERS]: xFormers can't load C++/CUDA extensions. xFormers was built for:\n",
      "    PyTorch 2.1.0+cu121 with CUDA 1201 (you have 2.1.0+cpu)\n",
      "    Python  3.10.11 (you have 3.10.16)\n",
      "  Please reinstall xformers (see https://github.com/facebookresearch/xformers#installing-xformers)\n",
      "  Memory-efficient attention, SwiGLU, sparse and more won't be available.\n",
      "  Set XFORMERS_MORE_DETAILS=1 for more details\n",
      "c:\\Users\\julio\\anaconda3\\envs\\singer-doge\\lib\\site-packages\\tqdm\\auto.py:21: TqdmWarning: IProgress not found. Please update jupyter and ipywidgets. See https://ipywidgets.readthedocs.io/en/stable/user_install.html\n",
      "  from .autonotebook import tqdm as notebook_tqdm\n"
     ]
    }
   ],
   "source": [
    "import torch\n",
    "import torch.nn as nn\n",
    "import torch.optim as optim\n",
    "import random\n",
    "\n",
    "from audiocraft.models import MusicGen"
   ]
  },
  {
   "cell_type": "markdown",
   "metadata": {},
   "source": [
    "# Check out CUDA device availability"
   ]
  },
  {
   "cell_type": "code",
   "execution_count": null,
   "metadata": {},
   "outputs": [],
   "source": [
    "device = torch.device(\"cuda\" if torch.cuda.is_available() else \"cpu\")\n",
    "\n",
    "device"
   ]
  },
  {
   "cell_type": "markdown",
   "metadata": {},
   "source": [
    "# Student Model Architecture"
   ]
  },
  {
   "cell_type": "code",
   "execution_count": null,
   "metadata": {},
   "outputs": [],
   "source": [
    "# convert lyrics to music in midi format model\n",
    "class Lyrics2MusicModel(nn.Module):\n",
    "    def __init__(self, text_emb_size, input_size, hidden_size, output_size, num_heads, num_layers):\n",
    "        super(Lyrics2MusicModel, self).__init__()\n",
    "        # music embedding layer\n",
    "        self.music_emb = nn.Embedding(num_embeddings=input_size, embedding_dim=hidden_size)\n",
    "        # text encoder layer\n",
    "        self.text_encoder = nn.TransformerEncoder(\n",
    "            nn.TransformerEncoderLayer(d_model=hidden_size, nhead=num_heads),\n",
    "            num_layers=num_layers\n",
    "        )\n",
    "        # music decoder layer\n",
    "        self.music_decoder = nn.TransformerDecoder(\n",
    "            nn.TransformerDecoderLayer(d_model=hidden_size, nhead=num_heads),\n",
    "            num_layers=num_layers\n",
    "        )\n",
    "        # full connected layer\n",
    "        self.fc = nn.Linear(hidden_size, output_size)\n",
    "    def forward(self, music_input, text_input):\n",
    "        music_emb = self.music_emb(music_input)\n",
    "\n",
    "        text_emb = self.text_encoder(text_input)\n",
    "        # duplicate text embedding shape toward music embedding\n",
    "        text_emb_repeated = text_emb.unsqueeze(0).repeat(music_emb.size(0), 1, 1)\n",
    "\n",
    "        # concat music and text embedding into one embedding (text conditioning)\n",
    "        conditioned_emb = music_emb + text_emb_repeated\n",
    "\n",
    "        # decode the embedding to midi output\n",
    "        midi_format_output = self.music_decoder(conditioned_emb)\n",
    "        return self.fc(midi_format_output)"
   ]
  },
  {
   "cell_type": "markdown",
   "metadata": {},
   "source": [
    "# Teache Model & Synthetic Training Data"
   ]
  },
  {
   "cell_type": "code",
   "execution_count": 1,
   "metadata": {},
   "outputs": [],
   "source": [
    "# theme word options\n",
    "themes_word_elements = [\n",
    "    \"Love\", \"Heartbreak\", \"Nature\", \"Exploration\", \"Sci-fi\", \"Futuristic\", \"Motivation\", \"Resilience\", \"Storytelling\", \"Legends\",\n",
    "    \"Philosophy\", \"Romantic\", \"Thoughts\", \"Sadness\", \"Melancholy\", \"Deep\", \"Joy\", \"Celebration\", \"Mystery\", \"Dark\", \"Light\", \"Fantasy\",\n",
    "    \"Ecstasy\", \"Nostalgia\", \"Anger\", \"Serenity\", \"Anxiety\", \"Hope\", \"Envy\", \"Awe\", \"Underwater\", \"Desert\", \"Jungle\", \"Space Station\",\n",
    "    \"Carnival\", \"Graveyard\", \"Medieval\", \"Renaissance\", \"Ancient Egypt\", \"Japanese Samurai\", \"African Safari\", \"Running\", \"Dancing\",\n",
    "    \"Fighting\", \"Reading\", \"Flying\", \"Adventure\", \"Loneliness\", \"Magic\", \"Victory\", \"Reflection\", \"Surprise\", \"Tranquility\", \"Urgency\",\n",
    "    \"Melancholy\", \"Nostalgia\", \"Epic\", \"Battle\", \"Cyberpunk\", \"City\", \"Shine\", \"Sunset\", \"Dark\", \"Forest\", \"Mystery\", \"Space\", \"Odyssey\",\n",
    "    \"Chill\", \"Lo-Fi\", \"Vibes\", \"Jazz\", \"Lounge\", \"Night\", \"Day\", \"Ancient\", \"Ruins\", \"Exploration\", \"Medieval\", \"Folk\", \"Dance\",\n",
    "    \"Dream\", \"Awakening\", \"Journey\", \"Destiny\", \"Time\", \"Eternity\", \"Universe\", \"Cosmic\", \"Stars\", \"Moon\", \"Sun\", \"Rain\", \"Snow\",\n",
    "    \"Wind\", \"Fire\", \"Water\", \"Earth\", \"Sky\", \"Ocean\", \"River\", \"Mountain\", \"Valley\", \"Flower\", \"Tree\", \"Leaf\", \"Bird\", \"Animal\",\n",
    "    \"Whisper\", \"Silence\", \"Echo\", \"Shadow\", \"Light\", \"Color\", \"Sound\", \"Harmony\", \"Chaos\", \"Balance\", \"Peace\", \"War\", \"Life\", \"Death\",\n",
    "    \"Spirit\", \"Soul\", \"Heart\", \"Mind\", \"Body\", \"Strength\", \"Weakness\", \"Courage\", \"Fear\", \"Passion\", \"Desire\", \"Memory\", \"Future\",\n",
    "    \"Present\", \"Past\", \"Childhood\", \"Adulthood\", \"Wisdom\", \"Knowledge\", \"Truth\", \"Lie\", \"Hope\", \"Despair\", \"Faith\", \"Doubt\",\n",
    "    \"Change\", \"Growth\", \"Decay\", \"Creation\", \"Destruction\", \"Freedom\", \"Imprisonment\", \"Justice\", \"Injustice\", \"Love Song\",\n",
    "    \"Ballad\", \"Anthem\", \"Hymn\", \"Lullaby\", \"Elegy\", \"Ode\", \"Symphony\", \"Concerto\", \"Sonata\", \"Etude\", \"Nocturne\", \"Waltz\", \"Tango\",\n",
    "    \"Rumba\", \"Samba\", \"Cha-cha\", \"Swing\", \"Blues\", \"Rock\", \"Pop\", \"Hip-hop\", \"Electronic\", \"Classical\", \"World Music\", \"Ambient\",\n",
    "    \"Minimalist\", \"Experimental\", \"Avant-garde\", \"Indie\", \"Alternative\", \"Underground\", \"Mainstream\", \"Commercial\", \"Independent\",\n",
    "    \"Art\", \"Music\", \"Dance\", \"Theater\", \"Film\", \"Literature\", \"Poetry\", \"Painting\", \"Sculpture\", \"Architecture\", \"Science\",\n",
    "    \"Technology\", \"Engineering\", \"Mathematics\", \"History\", \"Geography\", \"Culture\", \"Society\", \"Politics\", \"Economics\", \"Religion\",\n",
    "    \"Philosophy\", \"Psychology\", \"Sociology\", \"Anthropology\", \"Education\", \"Health\", \"Environment\", \"Sustainability\", \"Innovation\",\n",
    "    \"Progress\", \"Revolution\", \"Evolution\", \"Transformation\", \"Harmony\", \"Dissonance\", \"Contrast\", \"Balance\", \"Symmetry\", \"Asymmetry\",\n",
    "    \"Repetition\", \"Variation\", \"Improvisation\", \"Composition\", \"Performance\", \"Audience\", \"Concert\", \"Festival\", \"Club\", \"Studio\",\n",
    "    \"Stage\", \"Backstage\", \"Microphone\", \"Instrument\", \"Voice\", \"Melody\", \"Harmony\", \"Rhythm\", \"Tempo\", \"Dynamics\", \"Timbre\", \"Texture\",\n",
    "    \"Form\", \"Structure\", \"Style\", \"Genre\", \"Era\", \"Movement\", \"Influence\", \"Inspiration\", \"Creativity\", \"Expression\", \"Communication\",\n",
    "    \"Emotion\", \"Feeling\", \"Mood\", \"Atmosphere\", \"Story\", \"Narrative\", \"Theme\", \"Motif\", \"Symbol\", \"Metaphor\", \"Allegory\", \"Irony\",\n",
    "    \"Humor\", \"Wit\", \"Sarcasm\", \"Paradox\", \"Mystery\", \"Suspense\", \"Drama\", \"Comedy\", \"Tragedy\", \"Romance\", \"Adventure\", \"Fantasy\",\n",
    "    \"Horror\", \"Thriller\", \"Science Fiction\", \"Historical Fiction\", \"Contemporary\", \"Classic\", \"Modern\", \"Postmodern\", \"Abstract\",\n",
    "    \"Surreal\", \"Realism\", \"Naturalism\", \"Romanticism\", \"Symbolism\", \"Expressionism\", \"Dadaism\", \"Surrealism\", \"Modernism\",\n",
    "    \"Postmodernism\", \"Minimalism\", \"Conceptual Art\", \"Performance Art\", \"Installation Art\", \"Video Art\", \"Digital Art\", \"Pop Art\",\n",
    "    \"Op Art\", \"Land Art\", \"Environmental Art\", \"Social Commentary\", \"Political Satire\", \"Personal Reflection\", \"Spiritual Journey\",\n",
    "    \"Inner Peace\", \"Outer Chaos\", \"Human Condition\", \"Universal Themes\", \"Timeless Truths\", \"Ephemeral Beauty\", \"Fleeting Moments\",\n",
    "    \"Precious Memories\", \"Lost Loves\", \"Unspoken Words\", \"Hidden Meanings\", \"Secret Desires\", \"Dreams\", \"Nightmares\", \"Hopes\", \"Fears\",\n",
    "    \"Joys\", \"Sorrows\", \"Triumphs\", \"Failures\", \"Beginnings\", \"Endings\", \"Life\", \"Death\", \"Creation\", \"Destruction\", \"Order\", \"Chaos\",\n",
    "    \"Light\", \"Shadow\", \"Good\", \"Evil\", \"Love\", \"Hate\", \"Peace\", \"War\", \"Freedom\", \"Imprisonment\", \"Justice\", \"Injustice\",\n",
    "    \"Truth\", \"Lies\", \"Faith\", \"Doubt\", \"Certainty\", \"Uncertainty\", \"Change\", \"Growth\", \"Decay\", \"Renewal\", \"Progress\", \"Regression\",\n",
    "    \"Evolution\", \"Transformation\", \"Harmony\", \"Dissonance\", \"Balance\", \"Imbalance\", \"Symmetry\", \"Asymmetry\", \"Repetition\", \"Variation\",\n",
    "    \"Improvisation\", \"Composition\", \"Performance\", \"Audience\", \"Concert\", \"Festival\", \"Club\", \"Studio\", \"Stage\", \"Backstage\",\n",
    "    \"Microphone\", \"Instrument\", \"Voice\", \"Melody\", \"Harmony\", \"Rhythm\", \"Tempo\", \"Dynamics\", \"Timbre\", \"Texture\", \"Form\", \"Structure\",\n",
    "    \"Style\", \"Genre\", \"Era\", \"Movement\", \"Influence\", \"Inspiration\", \"Creativity\", \"Expression\", \"Communication\", \"Emotion\", \"Feeling\",\n",
    "    \"Mood\", \"Atmosphere\", \"Story\", \"Narrative\", \"Theme\", \"Motif\", \"Symbol\", \"Metaphor\", \"Allegory\", \"Irony\", \"Humor\", \"Wit\", \"Sarcasm\",\n",
    "    \"Paradox\", \"Mystery\", \"Suspense\", \"Drama\", \"Comedy\", \"Tragedy\", \"Romance\", \"Adventure\", \"Fantasy\", \"Horror\", \"Thriller\",\n",
    "    \"Science\", \"Fiction\", \"Historical\", \"Contemporary\", \"Classic\", \"Modern\", \"Postmodern\", \"Abstract\", \"Surreal\", \"Realism\",\n",
    "    \"Naturalism\", \"Romanticism\", \"Symbolism\", \"Expressionism\", \"Dadaism\", \"Surrealism\", \"Modernism\", \"Postmodernism\", \"Minimalism\",\n",
    "    \"Conceptual\", \"Art\", \"Performance\", \"Installation\", \"Video\", \"Digital\", \"Pop\", \"Op\", \"Land\", \"Environmental\", \"Social\", \"Commentary\",\n",
    "    \"Political\", \"Satire\", \"Personal\", \"Reflection\", \"Spiritual\", \"Journey\", \"Inner\", \"Outer\", \"Human\", \"Condition\", \"Universal\",\n",
    "    \"Themes\", \"Timeless\", \"Truths\", \"Ephemeral\", \"Beauty\", \"Fleeting\", \"Moments\", \"Precious\", \"Memories\", \"Lost\", \"Loves\",\n",
    "    \"Unspoken\", \"Words\", \"Hidden\", \"Meanings\", \"Secret\", \"Desires\", \"Dreams\", \"Nightmares\", \"Hopes\", \"Fears\", \"Joys\", \"Sorrows\",\n",
    "    \"Triumphs\", \"Failures\", \"Beginnings\", \"Endings\", \"Life\", \"Death\", \"Creation\", \"Destruction\", \"Order\", \"Chaos\", \"Light\", \"Shadow\",\n",
    "    \"Good\", \"Evil\", \"Love\", \"Hate\", \"Peace\", \"War\", \"Freedom\", \"Imprisonment\", \"Justice\", \"Injustice\", \"Truth\", \"Lies\", \"Faith\",\n",
    "    \"Doubt\", \"Certainty\", \"Uncertainty\", \"Change\", \"Growth\", \"Decay\", \"Renewal\", \"Progress\", \"Regression\", \"Evolution\", \"Transformation\",\n",
    "    \"Harmony\", \"Dissonance\", \"Balance\", \"Imbalance\", \"Symmetry\", \"Asymmetry\", \"Repetition\", \"Variation\"\n",
    "    ]"
   ]
  },
  {
   "cell_type": "code",
   "execution_count": null,
   "metadata": {},
   "outputs": [],
   "source": [
    "# script to generate 5k random music title/lyrics, in order to generate synthetic midi output for student model training\n",
    "def random_generate_music_title(elem_array):\n",
    "    random_text_len = random.choice(int)\n",
    "    text = \"\"\n",
    "    for i in range(random_text_len):\n",
    "        random_text_elem = random.choice(elem_array)\n",
    "        text += ((random_text_elem + \" \") if random_text_len - i > 1 else random_text_elem)\n",
    "    return text\n",
    "\n",
    "file_path = r\"D:\\notebook\\singer-doge\\lyrics2music-dataset\\music_title.txt\"\n",
    "\n",
    "with open(file_path, \"w\", encoding=\"utf-8\") as file:\n",
    "    for i in range(5000):\n",
    "        text = random_generate_music_title(themes_word_elements)\n",
    "        file.write(text)\n",
    "        file.write(\"\\n\")"
   ]
  },
  {
   "cell_type": "code",
   "execution_count": null,
   "metadata": {},
   "outputs": [],
   "source": [
    "teacher_model = MusicGen.get_trained(\"facebook/musicgen-small\")\n",
    "lyrics = [\n",
    "    \"\"\n",
    "]"
   ]
  },
  {
   "cell_type": "markdown",
   "metadata": {},
   "source": [
    "# Model Training"
   ]
  },
  {
   "cell_type": "code",
   "execution_count": null,
   "metadata": {},
   "outputs": [],
   "source": [
    "# initialize the model\n",
    "model = Lyrics2MusicModel(input_size=128, hidden_size=512, output_size=128, num_heads=8, num_layers=6).to(device)\n",
    "criterion = nn.CrossEntropyLoss()\n",
    "optimizer = optim.Adam(model.parameters(), lr=0.001)"
   ]
  },
  {
   "cell_type": "code",
   "execution_count": null,
   "metadata": {},
   "outputs": [],
   "source": [
    "epochs = 50\n",
    "\n",
    "# training epoch\n",
    "for epoch in range(epochs):\n",
    "    for music_input, text_input, target_output in dataloader:\n",
    "        optimizer.zero_grad()\n",
    "        output = model(music_input, text_input)\n",
    "        loss = criterion(output, target_output)\n",
    "        loss.backward()\n",
    "        optimizer.step()\n",
    "    if (epoch + 1) % 5 == 0:\n",
    "        print(f\"epoch {epoch}, loss: {loss:.4f}\")"
   ]
  },
  {
   "cell_type": "markdown",
   "metadata": {},
   "source": [
    "# Model Evaluation"
   ]
  }
 ],
 "metadata": {
  "kernelspec": {
   "display_name": "singer-doge",
   "language": "python",
   "name": "python3"
  },
  "language_info": {
   "codemirror_mode": {
    "name": "ipython",
    "version": 3
   },
   "file_extension": ".py",
   "mimetype": "text/x-python",
   "name": "python",
   "nbconvert_exporter": "python",
   "pygments_lexer": "ipython3",
   "version": "3.10.16"
  }
 },
 "nbformat": 4,
 "nbformat_minor": 2
}
